{
 "cells": [
  {
   "cell_type": "code",
   "execution_count": 45,
   "metadata": {},
   "outputs": [],
   "source": [
    "import yfinance as yf\n",
    "import openai\n",
    "import os\n",
    "from dotenv import load_dotenv, find_dotenv\n",
    "import json\n",
    "\n",
    "_ = load_dotenv(find_dotenv())\n",
    "\n",
    "api_key = os.getenv(\"OPENAI_API_KEY\")\n",
    "\n",
    "client = openai.OpenAI(api_key=api_key)"
   ]
  },
  {
   "cell_type": "code",
   "execution_count": 46,
   "metadata": {},
   "outputs": [],
   "source": [
    "def retorna_cotacao_historica(ticker, periodo):\n",
    "    ticker_obj = yf.Ticker(f'{ticker}.SA')\n",
    "    hist = ticker_obj.history(period=periodo, auto_adjust=False)\n",
    "    hist = round(hist, 2)\n",
    "    if len(hist) > 30:\n",
    "        slice_size = int(len(hist) / 30)\n",
    "        hist = hist.iloc[::-slice_size][::-1]\n",
    "    hist.index = hist.index.strftime('%Y-%m-%d')\n",
    "    return hist['Close'].to_json()\n",
    "    "
   ]
  },
  {
   "cell_type": "code",
   "execution_count": 47,
   "metadata": {},
   "outputs": [],
   "source": [
    "tools = [\n",
    "    {\n",
    "        'type': 'function',\n",
    "        'function': {\n",
    "            'name': 'retorna_cotacao_historica',\n",
    "            'description': 'retorna a cotação diaria historica para uma ação da bovespa',\n",
    "            'parameters': {\n",
    "                'type': 'object',\n",
    "                'properties': {\n",
    "                    'ticker': {\n",
    "                        'type': 'string',\n",
    "                        'description': 'O ticker da ação. Exemplo: \"ABEC3\" para ambev, \"PETR4\" para petrobras, etc'\n",
    "                    },\n",
    "                    'periodo': {\n",
    "                        'type': 'string',\n",
    "                        'description': 'O periodo que sera retornado de dados historicos \\\n",
    "                                        sendo \"1mo\" equivalente a um mes de dados, \"1d\" a \\\n",
    "                                        1 dia e \"1y\" a 1 ano',\n",
    "                        'enum': [\"1d\",\"5d\",\"1mo\",\"5mo\",\"1y\",\"5y\",\"10y\",\"ytd\",\"max\"]                \n",
    "                    }\n",
    "                }\n",
    "            }\n",
    "        }\n",
    "    }\n",
    "]\n",
    "\n",
    "funcoes_disponiveis = {\n",
    "    \"retorna_cotacao_historica\": retorna_cotacao_historica,\n",
    "}\n",
    "\n",
    "def geracao_texto(mensagens):\n",
    "    resposta = client.chat.completions.create(\n",
    "    model=\"gpt-3.5-turbo-0125\",\n",
    "    messages=mensagens,\n",
    "    tools=tools,\n",
    "    tool_choice=\"auto\",\n",
    "    )\n",
    "    \n",
    "    tool_calls = resposta.choices[0].message.tool_calls\n",
    "    \n",
    "    if tool_calls:\n",
    "        mensagens.append(resposta.choices[0].message)\n",
    "        for tool_call in tool_calls:\n",
    "            function_name = tool_call.function.name\n",
    "            function_to_call = funcoes_disponiveis[function_name]\n",
    "            function_args = json.loads(tool_call.function.arguments)\n",
    "            function_response = function_to_call(**function_args)\n",
    "            mensagens.append(\n",
    "                {\n",
    "                    \"tool_call_id\": tool_call.id,\n",
    "                    \"role\": \"tool\",\n",
    "                    \"name\": function_name,\n",
    "                    \"content\": function_response,\n",
    "                }\n",
    "            )\n",
    "        segunda_resposta = client.chat.completions.create(\n",
    "            model=\"gpt-3.5-turbo-0125\",\n",
    "            messages=mensagens,\n",
    "        )\n",
    "\n",
    "        mensagens.append(segunda_resposta.choices[0].message)\n",
    "        print(f'Assitant: {mensagens[-1].content}')\n",
    "    \n",
    "    \n",
    "    "
   ]
  },
  {
   "cell_type": "code",
   "execution_count": 44,
   "metadata": {},
   "outputs": [
    {
     "name": "stdout",
     "output_type": "stream",
     "text": [
      "Bem-vindo ao ChatBot financeiro da Asimov. Digite sua mensagem abaixo:\n",
      "Assitant: A cotação da Ambev (ABEV3) no dia 5 de fevereiro de 2025 foi de R$10,76.\n"
     ]
    }
   ],
   "source": [
    "if __name__ == '__main__':\n",
    "    print(\"Bem-vindo ao ChatBot financeiro da Asimov. Digite sua mensagem abaixo:\")\n",
    "    while True:\n",
    "        input_usuario = input('User: ')\n",
    "        mensagens = [{'role': 'user', 'content': input_usuario}]\n",
    "        mensagens = geracao_texto(mensagens)\n"
   ]
  }
 ],
 "metadata": {
  "kernelspec": {
   "display_name": "Python 3",
   "language": "python",
   "name": "python3"
  },
  "language_info": {
   "codemirror_mode": {
    "name": "ipython",
    "version": 3
   },
   "file_extension": ".py",
   "mimetype": "text/x-python",
   "name": "python",
   "nbconvert_exporter": "python",
   "pygments_lexer": "ipython3",
   "version": "3.13.1"
  }
 },
 "nbformat": 4,
 "nbformat_minor": 2
}
