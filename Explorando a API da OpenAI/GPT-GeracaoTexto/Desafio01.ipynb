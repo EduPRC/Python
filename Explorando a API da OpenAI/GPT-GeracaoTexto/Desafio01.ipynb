{
 "cells": [
  {
   "cell_type": "code",
   "execution_count": 1,
   "metadata": {},
   "outputs": [],
   "source": [
    "import openai\n",
    "\n",
    "from dotenv import load_dotenv, find_dotenv\n",
    "\n",
    "import os\n",
    "\n",
    "_ = load_dotenv(find_dotenv())\n"
   ]
  },
  {
   "cell_type": "code",
   "execution_count": 2,
   "metadata": {},
   "outputs": [],
   "source": [
    "api_key = os.getenv(\"OPENAI_API_KEY\")\n",
    "\n",
    "client = openai.OpenAI(api_key=api_key) "
   ]
  },
  {
   "cell_type": "code",
   "execution_count": 3,
   "metadata": {},
   "outputs": [],
   "source": [
    "def geracao_texto(mensagens):\n",
    "    resposta = client.chat.completions.create(\n",
    "        model='gpt-3.5-turbo',\n",
    "        messages=mensagens,\n",
    "        max_tokens=1000,  \n",
    "        temperature=0,\n",
    "        stream=True\n",
    "    )\n",
    "    \n",
    "    print('Assitant:', end='')\n",
    "    resposta_completa = ''\n",
    "    for stream_resposta in resposta:\n",
    "        texto = stream_resposta.choices[0].delta.content\n",
    "        if texto:\n",
    "            resposta_completa += texto\n",
    "            print(texto, end='')\n",
    "    print()\n",
    "            \n",
    "    mensagens.append({'role': 'assistant', 'content': resposta_completa})\n",
    "    return mensagens"
   ]
  },
  {
   "cell_type": "code",
   "execution_count": 1,
   "metadata": {},
   "outputs": [
    {
     "name": "stdout",
     "output_type": "stream",
     "text": [
      "Bem-vindo ao ChatBot da Asimov. Digite sua mensagem abaixo:\n",
      "Assitant:Olá! Como posso ajudar você hoje?\n",
      "Assitant:Como posso ajudar você hoje?\n",
      "Assitant:Se precisar de ajuda ou tiver alguma pergunta, estou à disposição para ajudar. Sinta-se à vontade para me dizer como posso ser útil.\n",
      "Assitant:Se precisar de assistência ou tiver alguma dúvida, não hesite em me chamar. Estou aqui para ajudar no que precisar.\n",
      "Assitant:Se precisar de ajuda, estou à disposição. Não hesite em me chamar se precisar de alguma informação ou suporte.\n",
      "Assitant:Se precisar de ajuda ou tiver alguma dúvida, estou aqui para ajudar. Sinta-se à vontade para me chamar se precisar de assistência.\n"
     ]
    }
   ],
   "source": [
    "if __name__ == '__main__':\n",
    "    print(\"Bem-vindo ao ChatBot da Asimov. Digite sua mensagem abaixo:\")\n",
    "    mensagens = []\n",
    "    while True:\n",
    "        input_usuario = input('User: ')\n",
    "        mensagens.append({'role': 'user', 'content': input_usuario})\n",
    "        mensagens = geracao_texto(mensagens)"
   ]
  }
 ],
 "metadata": {
  "kernelspec": {
   "display_name": "Python 3",
   "language": "python",
   "name": "python3"
  },
  "language_info": {
   "codemirror_mode": {
    "name": "ipython",
    "version": 3
   },
   "file_extension": ".py",
   "mimetype": "text/x-python",
   "name": "python",
   "nbconvert_exporter": "python",
   "pygments_lexer": "ipython3",
   "version": "3.13.1"
  }
 },
 "nbformat": 4,
 "nbformat_minor": 2
}
