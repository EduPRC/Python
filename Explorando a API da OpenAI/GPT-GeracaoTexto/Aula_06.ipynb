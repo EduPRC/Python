{
 "cells": [
  {
   "cell_type": "code",
   "execution_count": 15,
   "metadata": {},
   "outputs": [],
   "source": [
    "import openai \n",
    "\n",
    "from dotenv import load_dotenv, find_dotenv\n",
    "\n",
    "\n",
    "_ = load_dotenv(find_dotenv())"
   ]
  },
  {
   "cell_type": "code",
   "execution_count": 16,
   "metadata": {},
   "outputs": [],
   "source": [
    "client = openai.Client()"
   ]
  },
  {
   "cell_type": "code",
   "execution_count": 17,
   "metadata": {},
   "outputs": [],
   "source": [
    "mensagens = [{'role': 'user', 'content': 'Crie uma historia sore uma viagem a marte'}]\n",
    "\n",
    "resposta = client.chat.completions.create(\n",
    "    model='gpt-3.5-turbo',\n",
    "    messages=mensagens,\n",
    "    max_tokens=1000,  \n",
    "    temperature=0,\n",
    "    stream=True\n",
    ")"
   ]
  },
  {
   "cell_type": "code",
   "execution_count": 18,
   "metadata": {},
   "outputs": [
    {
     "name": "stdout",
     "output_type": "stream",
     "text": [
      "Era o ano de 2050 e a humanidade finalmente havia conseguido enviar uma missão tripulada para Marte. A nave espacial, batizada de \"Explorador Vermelho\", estava equipada com tecnologia de ponta e uma tripulação de astronautas altamente treinados.\n",
      "\n",
      "A viagem até Marte durou meses, durante os quais os astronautas enfrentaram desafios e adversidades no espaço sideral. Mas finalmente, após uma jornada épica, a nave espacial pousou com segurança na superfície do Planeta Vermelho.\n",
      "\n",
      "Os astronautas saíram da nave e ficaram maravilhados com a paisagem árida e desolada de Marte. Eles começaram a explorar o terreno, coletando amostras de solo e rochas para análise. Descobriram vestígios de água congelada e evidências de que Marte já teve um clima mais quente e úmido no passado.\n",
      "\n",
      "Enquanto exploravam o planeta, os astronautas também fizeram contato com uma forma de vida alienígena, pequenos microrganismos que viviam sob a superfície de Marte. Foi uma descoberta emocionante e histórica, que mudou para sempre a nossa compreensão do universo.\n",
      "\n",
      "Após semanas de exploração, os astronautas retornaram à Terra, trazendo consigo amostras valiosas e informações cruciais sobre Marte. A missão foi um sucesso e abriu caminho para futuras expedições ao Planeta Vermelho.\n",
      "\n",
      "A viagem a Marte foi uma jornada incrível e inspiradora, que mostrou o poder da determinação humana e da exploração espacial. E assim, a humanidade deu mais um passo em direção às estrelas, rumo a um futuro de descobertas e conquistas interplanetárias."
     ]
    }
   ],
   "source": [
    "resposta_completa = ''\n",
    "for stream_resposta in resposta:\n",
    "    texto = stream_resposta.choices[0].delta.content\n",
    "    if texto:\n",
    "        resposta_completa += texto\n",
    "        print(texto, end='')"
   ]
  },
  {
   "cell_type": "code",
   "execution_count": 19,
   "metadata": {},
   "outputs": [
    {
     "name": "stdout",
     "output_type": "stream",
     "text": [
      "Era o ano de 2050 e a humanidade finalmente havia conseguido enviar uma missão tripulada para Marte. A nave espacial, batizada de \"Explorador Vermelho\", estava equipada com tecnologia de ponta e uma tripulação de astronautas altamente treinados.\n",
      "\n",
      "A viagem até Marte durou meses, durante os quais os astronautas enfrentaram desafios e adversidades no espaço sideral. Mas finalmente, após uma jornada épica, a nave espacial pousou com segurança na superfície do Planeta Vermelho.\n",
      "\n",
      "Os astronautas saíram da nave e ficaram maravilhados com a paisagem árida e desolada de Marte. Eles começaram a explorar o terreno, coletando amostras de solo e rochas para análise. Descobriram vestígios de água congelada e evidências de que Marte já teve um clima mais quente e úmido no passado.\n",
      "\n",
      "Enquanto exploravam o planeta, os astronautas também fizeram contato com uma forma de vida alienígena, pequenos microrganismos que viviam sob a superfície de Marte. Foi uma descoberta emocionante e histórica, que mudou para sempre a nossa compreensão do universo.\n",
      "\n",
      "Após semanas de exploração, os astronautas retornaram à Terra, trazendo consigo amostras valiosas e informações cruciais sobre Marte. A missão foi um sucesso e abriu caminho para futuras expedições ao Planeta Vermelho.\n",
      "\n",
      "A viagem a Marte foi uma jornada incrível e inspiradora, que mostrou o poder da determinação humana e da exploração espacial. E assim, a humanidade deu mais um passo em direção às estrelas, rumo a um futuro de descobertas e conquistas interplanetárias.\n"
     ]
    }
   ],
   "source": [
    "print(resposta_completa)"
   ]
  }
 ],
 "metadata": {
  "kernelspec": {
   "display_name": "Python 3",
   "language": "python",
   "name": "python3"
  },
  "language_info": {
   "codemirror_mode": {
    "name": "ipython",
    "version": 3
   },
   "file_extension": ".py",
   "mimetype": "text/x-python",
   "name": "python",
   "nbconvert_exporter": "python",
   "pygments_lexer": "ipython3",
   "version": "3.13.1"
  }
 },
 "nbformat": 4,
 "nbformat_minor": 2
}
